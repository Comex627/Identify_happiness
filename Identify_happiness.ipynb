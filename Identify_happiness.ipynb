{
 "cells": [
  {
   "cell_type": "code",
   "execution_count": 1,
   "metadata": {},
   "outputs": [],
   "source": [
    "import pandas as pd\n",
    "from sklearn.model_selection import KFold, StratifiedKFold\n",
    "import numpy as np\n",
    "import lightgbm as lgb\n",
    "import matplotlib.pyplot as plt\n",
    "from sklearn.metrics import roc_auc_score\n",
    "import warnings\n",
    "import seaborn as sns\n",
    "warnings.filterwarnings('ignore')"
   ]
  },
  {
   "cell_type": "code",
   "execution_count": 2,
   "metadata": {},
   "outputs": [],
   "source": [
    "train = pd.read_csv('./data/train.csv')\n",
    "test = pd.read_csv('./data/test.csv')"
   ]
  },
  {
   "cell_type": "markdown",
   "metadata": {},
   "source": [
    "# 数据预处理"
   ]
  },
  {
   "cell_type": "code",
   "execution_count": 3,
   "metadata": {},
   "outputs": [
    {
     "data": {
      "text/html": [
       "<div>\n",
       "<style scoped>\n",
       "    .dataframe tbody tr th:only-of-type {\n",
       "        vertical-align: middle;\n",
       "    }\n",
       "\n",
       "    .dataframe tbody tr th {\n",
       "        vertical-align: top;\n",
       "    }\n",
       "\n",
       "    .dataframe thead th {\n",
       "        text-align: right;\n",
       "    }\n",
       "</style>\n",
       "<table border=\"1\" class=\"dataframe\">\n",
       "  <thead>\n",
       "    <tr style=\"text-align: right;\">\n",
       "      <th></th>\n",
       "      <th>User ID</th>\n",
       "      <th>Age</th>\n",
       "      <th>MonthlySalary</th>\n",
       "      <th>Happiness</th>\n",
       "    </tr>\n",
       "  </thead>\n",
       "  <tbody>\n",
       "    <tr>\n",
       "      <th>0</th>\n",
       "      <td>79470</td>\n",
       "      <td>46</td>\n",
       "      <td>117000</td>\n",
       "      <td>1</td>\n",
       "    </tr>\n",
       "    <tr>\n",
       "      <th>1</th>\n",
       "      <td>79363</td>\n",
       "      <td>58</td>\n",
       "      <td>38000</td>\n",
       "      <td>1</td>\n",
       "    </tr>\n",
       "    <tr>\n",
       "      <th>2</th>\n",
       "      <td>78782</td>\n",
       "      <td>48</td>\n",
       "      <td>74000</td>\n",
       "      <td>1</td>\n",
       "    </tr>\n",
       "    <tr>\n",
       "      <th>3</th>\n",
       "      <td>79207</td>\n",
       "      <td>37</td>\n",
       "      <td>137000</td>\n",
       "      <td>1</td>\n",
       "    </tr>\n",
       "    <tr>\n",
       "      <th>4</th>\n",
       "      <td>78375</td>\n",
       "      <td>37</td>\n",
       "      <td>79000</td>\n",
       "      <td>1</td>\n",
       "    </tr>\n",
       "  </tbody>\n",
       "</table>\n",
       "</div>"
      ],
      "text/plain": [
       "   User ID  Age  MonthlySalary  Happiness\n",
       "0    79470   46         117000          1\n",
       "1    79363   58          38000          1\n",
       "2    78782   48          74000          1\n",
       "3    79207   37         137000          1\n",
       "4    78375   37          79000          1"
      ]
     },
     "execution_count": 3,
     "metadata": {},
     "output_type": "execute_result"
    }
   ],
   "source": [
    "test.head()"
   ]
  },
  {
   "cell_type": "code",
   "execution_count": 4,
   "metadata": {},
   "outputs": [],
   "source": [
    "testcopy = test.copy()\n",
    "test_label = testcopy.Happiness"
   ]
  },
  {
   "cell_type": "code",
   "execution_count": 5,
   "metadata": {},
   "outputs": [],
   "source": [
    "test['Happiness'] = -1"
   ]
  },
  {
   "cell_type": "code",
   "execution_count": 6,
   "metadata": {},
   "outputs": [],
   "source": [
    "data = pd.concat([train,test],axis=0)"
   ]
  },
  {
   "cell_type": "markdown",
   "metadata": {},
   "source": [
    "# 特征工程"
   ]
  },
  {
   "cell_type": "code",
   "execution_count": 7,
   "metadata": {},
   "outputs": [],
   "source": [
    "#年龄分箱\n",
    "def get_ageSeg(x):\n",
    "    if x >=0 and x<= 20:\n",
    "        return 1\n",
    "    elif x>=21 and x<=30:\n",
    "        return 2\n",
    "    elif x>=31 and x<=40:\n",
    "        return 3\n",
    "    elif x>=41 and x<=50:\n",
    "        return 4\n",
    "    elif x>=51:\n",
    "        return 5\n",
    "def get_salarySeg(x):\n",
    "    if x >=0 and x<= 5000:\n",
    "        return 1\n",
    "    elif x>=5001 and x<=10000:\n",
    "        return 2\n",
    "    elif x>=10001 and x<=20000:\n",
    "        return 3\n",
    "    elif x>=20001:\n",
    "        return 4\n",
    "data['ageSeg'] = data.Age.apply(lambda x:get_ageSeg(x))\n",
    "data['salarySeg'] = data.MonthlySalary.apply(lambda x:get_salarySeg(x))"
   ]
  },
  {
   "cell_type": "code",
   "execution_count": 8,
   "metadata": {},
   "outputs": [],
   "source": [
    "#年薪\n",
    "data['YearSalary'] = data.MonthlySalary*12"
   ]
  },
  {
   "cell_type": "code",
   "execution_count": 9,
   "metadata": {},
   "outputs": [],
   "source": [
    "#ratio比例特征\n",
    "label_feature =['salarySeg','ageSeg']\n",
    "data_temp = data[label_feature]\n",
    "df_feature = pd.DataFrame()\n",
    "col_type = label_feature.copy()\n",
    "n = len(col_type)\n",
    "for i in range(n):\n",
    "    col_name = \"ratio_of_\" + col_type[i]\n",
    "    df_feature[col_name] = (\n",
    "                    data_temp[col_type[i]].map(data_temp[col_type[i]].value_counts()) / len(data) * 100).astype(int)            \n",
    "data = pd.concat([data, df_feature], axis=1)"
   ]
  },
  {
   "cell_type": "code",
   "execution_count": 10,
   "metadata": {},
   "outputs": [],
   "source": [
    "# #nunique特征\n",
    "# def get_nunique_fe(df):\n",
    "#     adid_nuq = ['Happiness','ageSeg','salarySeg']\n",
    "#     for feat in adid_nuq:\n",
    "#         gp1 = df.groupby('Age')[feat].nunique().reset_index().rename(columns={feat: \"Age_%s_nuq_num\" % feat})\n",
    "#         gp2 = df.groupby(feat)['Age'].nunique().reset_index().rename(columns={'Age': \"%s_Age_nuq_num\" % feat})\n",
    "#         df = pd.merge(df, gp1, how='left', on=['Age'])\n",
    "#         df = pd.merge(df, gp2, how='left', on=[feat])\n",
    "#     return df\n",
    "# data = get_nunique_fe(data)"
   ]
  },
  {
   "cell_type": "markdown",
   "metadata": {},
   "source": [
    "# 建模预测"
   ]
  },
  {
   "cell_type": "code",
   "execution_count": 11,
   "metadata": {},
   "outputs": [],
   "source": [
    "train_df = data[data.Happiness!=-1]\n",
    "test_df = data[data.Happiness==-1]"
   ]
  },
  {
   "cell_type": "code",
   "execution_count": 12,
   "metadata": {},
   "outputs": [],
   "source": [
    "#删除不需要的列\n",
    "del_feature = ['User ID','Happiness']\n",
    "features = [i for i in train_df.columns if i not in del_feature]"
   ]
  },
  {
   "cell_type": "code",
   "execution_count": 13,
   "metadata": {},
   "outputs": [],
   "source": [
    "train_x = train_df[features]\n",
    "train_y = train_df['Happiness'].values\n",
    "test_x = test_df[features]"
   ]
  },
  {
   "cell_type": "markdown",
   "metadata": {},
   "source": [
    "# 训练参数的选取"
   ]
  },
  {
   "cell_type": "code",
   "execution_count": 14,
   "metadata": {},
   "outputs": [],
   "source": [
    "params = {'num_leaves': 60,\n",
    "          'min_data_in_leaf': 30,\n",
    "          'objective': 'binary',\n",
    "          'max_depth': -1,\n",
    "          'learning_rate': 0.02,\n",
    "          \"min_sum_hessian_in_leaf\": 6,\n",
    "          \"boosting\": \"gbdt\",\n",
    "          \"feature_fraction\": 0.9,\n",
    "          \"bagging_freq\": 1,\n",
    "          \"bagging_fraction\": 0.8,\n",
    "          \"bagging_seed\": 11,\n",
    "          \"lambda_l1\": 0.1,\n",
    "          # 'lambda_l2': 0.001,\n",
    "          \"verbosity\": -1,\n",
    "          \"nthread\": -1,\n",
    "          'metric': {'binary_logloss', 'auc'},\n",
    "          \"random_state\": 2019,\n",
    "          }"
   ]
  },
  {
   "cell_type": "markdown",
   "metadata": {},
   "source": [
    "# 十折交叉"
   ]
  },
  {
   "cell_type": "code",
   "execution_count": 15,
   "metadata": {},
   "outputs": [],
   "source": [
    "folds = KFold(n_splits=5, shuffle=True, random_state=2048)\n",
    "prob_oof = np.zeros((train_x.shape[0], ))\n",
    "test_pred_prob = np.zeros((test_x.shape[0],))"
   ]
  },
  {
   "cell_type": "code",
   "execution_count": 16,
   "metadata": {},
   "outputs": [
    {
     "name": "stdout",
     "output_type": "stream",
     "text": [
      "fold 1\n",
      "Training until validation scores don't improve for 60 rounds.\n",
      "Early stopping, best iteration is:\n",
      "[26]\ttraining's binary_logloss: 0.397589\ttraining's auc: 0.96266\tvalid_1's binary_logloss: 0.361911\tvalid_1's auc: 0.923006\n",
      "fold 2\n",
      "Training until validation scores don't improve for 60 rounds.\n",
      "Early stopping, best iteration is:\n",
      "[16]\ttraining's binary_logloss: 0.463052\ttraining's auc: 0.954592\tvalid_1's binary_logloss: 0.418166\tvalid_1's auc: 0.952257\n",
      "fold 3\n",
      "Training until validation scores don't improve for 60 rounds.\n",
      "Early stopping, best iteration is:\n",
      "[119]\ttraining's binary_logloss: 0.251518\ttraining's auc: 0.95284\tvalid_1's binary_logloss: 0.255007\tvalid_1's auc: 0.949375\n",
      "fold 4\n",
      "Training until validation scores don't improve for 60 rounds.\n",
      "[200]\ttraining's binary_logloss: 0.232013\ttraining's auc: 0.957267\tvalid_1's binary_logloss: 0.28041\tvalid_1's auc: 0.964056\n",
      "Early stopping, best iteration is:\n",
      "[195]\ttraining's binary_logloss: 0.232252\ttraining's auc: 0.95653\tvalid_1's binary_logloss: 0.280286\tvalid_1's auc: 0.966624\n",
      "fold 5\n",
      "Training until validation scores don't improve for 60 rounds.\n",
      "Early stopping, best iteration is:\n",
      "[63]\ttraining's binary_logloss: 0.284844\ttraining's auc: 0.958953\tvalid_1's binary_logloss: 0.332352\tvalid_1's auc: 0.933604\n"
     ]
    }
   ],
   "source": [
    "num_round = 1000\n",
    "feature_importance_df = pd.DataFrame()\n",
    "for fold_, (trn_idx, val_idx) in enumerate(folds.split(train)):\n",
    "    print(\"fold {}\".format(fold_ + 1))\n",
    "    trn_data = lgb.Dataset(train_x.iloc[trn_idx], label=train_y[trn_idx])\n",
    "    val_data = lgb.Dataset(train_x.iloc[val_idx], label=train_y[val_idx])\n",
    "    \n",
    "    clf = lgb.train(params,\n",
    "                    trn_data,\n",
    "                    num_round,\n",
    "                    valid_sets=[trn_data, val_data],\n",
    "                    verbose_eval=200,\n",
    "                    early_stopping_rounds=60)\n",
    "    prob_oof[val_idx] = clf.predict(train_x.iloc[val_idx], num_iteration=clf.best_iteration)\n",
    "\n",
    "    fold_importance_df = pd.DataFrame()\n",
    "    fold_importance_df[\"Feature\"] = features\n",
    "    fold_importance_df[\"importance\"] = clf.feature_importance()\n",
    "    fold_importance_df[\"fold\"] = fold_ + 1\n",
    "    feature_importance_df = pd.concat([feature_importance_df, fold_importance_df], axis=0)\n",
    "\n",
    "    test_pred_prob += clf.predict(test_x[features], num_iteration=clf.best_iteration) / folds.n_splits"
   ]
  },
  {
   "cell_type": "markdown",
   "metadata": {},
   "source": [
    "# roc评估"
   ]
  },
  {
   "cell_type": "code",
   "execution_count": 17,
   "metadata": {},
   "outputs": [],
   "source": [
    "sub = test[['User ID']]"
   ]
  },
  {
   "cell_type": "code",
   "execution_count": 18,
   "metadata": {},
   "outputs": [
    {
     "data": {
      "text/plain": [
       "0.9387271689497717"
      ]
     },
     "execution_count": 18,
     "metadata": {},
     "output_type": "execute_result"
    }
   ],
   "source": [
    "#train\n",
    "roc_auc_score(train_y,prob_oof)"
   ]
  },
  {
   "cell_type": "code",
   "execution_count": 19,
   "metadata": {},
   "outputs": [],
   "source": [
    "sub['Happiness'] = test_pred_prob"
   ]
  },
  {
   "cell_type": "code",
   "execution_count": 20,
   "metadata": {},
   "outputs": [],
   "source": [
    "sub['Happiness'] = sub['Happiness'].apply(lambda x:'%.2f'%x)"
   ]
  },
  {
   "cell_type": "code",
   "execution_count": 21,
   "metadata": {},
   "outputs": [],
   "source": [
    "sub['Happiness']= sub['Happiness'].astype('float')"
   ]
  },
  {
   "cell_type": "code",
   "execution_count": 22,
   "metadata": {},
   "outputs": [],
   "source": [
    "sub.loc[sub.Happiness<=0.4,'Happiness'] = 0\n",
    "sub.loc[sub.Happiness>0.4,'Happiness'] = 1"
   ]
  },
  {
   "cell_type": "code",
   "execution_count": 23,
   "metadata": {},
   "outputs": [],
   "source": [
    "predicton=np.array(sub.Happiness)"
   ]
  },
  {
   "cell_type": "code",
   "execution_count": 24,
   "metadata": {},
   "outputs": [
    {
     "data": {
      "text/plain": [
       "array([1., 1., 1., 1., 0., 0., 0., 1., 1., 1., 0., 0., 1., 0., 1., 0., 0.,\n",
       "       1., 0., 1., 0., 1., 1., 0., 1., 1., 0., 0., 0., 1., 1., 0., 1., 0.,\n",
       "       0., 1., 0., 1., 0., 0., 1., 1., 0., 0., 1., 1., 0., 1., 1., 0., 0.,\n",
       "       1., 0., 1., 0., 1., 1., 1., 0., 0., 0., 1., 1., 1., 0., 1., 1., 1.,\n",
       "       1., 0., 1., 1., 1., 0., 1., 0., 1., 1., 0., 0., 1., 0., 1., 1., 1.,\n",
       "       1., 1., 1., 0., 1., 1., 1., 1., 1., 1., 0., 1., 1., 1., 0., 1.])"
      ]
     },
     "execution_count": 24,
     "metadata": {},
     "output_type": "execute_result"
    }
   ],
   "source": [
    "predicton"
   ]
  },
  {
   "cell_type": "code",
   "execution_count": 25,
   "metadata": {},
   "outputs": [
    {
     "data": {
      "text/plain": [
       "0.9336065573770491"
      ]
     },
     "execution_count": 25,
     "metadata": {},
     "output_type": "execute_result"
    }
   ],
   "source": [
    "#test\n",
    "score = roc_auc_score(predicton,test_label)\n",
    "score"
   ]
  },
  {
   "cell_type": "code",
   "execution_count": 26,
   "metadata": {},
   "outputs": [],
   "source": [
    "sub.to_csv('./data/'+str('%.6f'%score)+'.csv',encoding='utf-8',index=False)"
   ]
  },
  {
   "cell_type": "code",
   "execution_count": 27,
   "metadata": {},
   "outputs": [
    {
     "data": {
      "image/png": "[encoded data removed]",
      "text/plain": [
       "<Figure size 288x504 with 1 Axes>"
      ]
     },
     "metadata": {},
     "output_type": "display_data"
    }
   ],
   "source": [
    "## plot feature importance\n",
    "cols = (feature_importance_df[[\"Feature\", \"importance\"]].groupby(\"Feature\").mean().sort_values(by=\"importance\", ascending=False)[:].index)\n",
    "best_features = feature_importance_df.loc[feature_importance_df.Feature.isin(cols)].sort_values(by='importance',ascending=False)\n",
    "plt.figure(figsize=(4, 7))\n",
    "sns.barplot(y=\"Feature\",\n",
    "            x=\"importance\",\n",
    "            data=best_features.sort_values(by=\"importance\", ascending=False))\n",
    "plt.title('LightGBM Features (avg over folds)')\n",
    "plt.tight_layout()"
   ]
  }
 ],
 "metadata": {
  "kernelspec": {
   "display_name": "Python 3",
   "language": "python",
   "name": "python3"
  },
  "language_info": {
   "codemirror_mode": {
    "name": "ipython",
    "version": 3
   },
   "file_extension": ".py",
   "mimetype": "text/x-python",
   "name": "python",
   "nbconvert_exporter": "python",
   "pygments_lexer": "ipython3",
   "version": "3.6.5"
  }
 },
 "nbformat": 4,
 "nbformat_minor": 2
}
